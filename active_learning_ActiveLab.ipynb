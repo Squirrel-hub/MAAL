{
 "cells": [
  {
   "cell_type": "markdown",
   "metadata": {},
   "source": [
    "# Active Learning with Multiple Data Annotators via ActiveLab"
   ]
  },
  {
   "cell_type": "markdown",
   "metadata": {},
   "source": [
    "[![Open In Colab](https://colab.research.google.com/assets/colab-badge.svg)](https://colab.research.google.com/github/cleanlab/examples/blob/master/active_learning_multiannotator/active_learning.ipynb)"
   ]
  },
  {
   "cell_type": "markdown",
   "metadata": {},
   "source": [
    "This notebook demonstrates a practical approach to active learning for training classification models with cleanlab. You can run this same code with *any* classifier model for any data type (image, text, tabular, audio, etc).\n",
    "\n",
    "In active learning, we aim to construct a labeled dataset by collecting the fewest labels that still allow us to train an accurate classifier model. Here we assume data labeling is done in **batches**, and between these data labeling rounds, we retrain our classifier and combine it with an [ActiveLab algorithm](https://arxiv.org/abs/2301.11856) that decides which examples (i.e. datapoints) would be most informative to label next round. We assume there are **multiple** annotators to label the data, but since their labels are not necessarily perfect, we sometimes wish to ask a new annotator to provide an extra label for a previously labeled example. This active learning with multiple annotators setup is more widely applicable than academic studies which only consider labeling one example in each round or being limited to a single (noise-free) annotation per example. The code demonstrated here still works effectively in single annotator settings too!\n",
    "\n",
    "cleanlab provides two useful estimates for multi-annotator active learning: (1) an active learning score estimating how informative an additional label would be for each example, (2) accurate consensus labels for the previously labeled examples that can be used for classifier model training.\n",
    "\n",
    "This notebook demonstrates how to use these estimates for sequential active learning, showing how a classification model iteratively improves after (re)labeling examples for multiple rounds. Some examples in the initial dataset are allowed to have been labeled by multiple annotators, while other examples may have 0 labels (unlabeled pool). Cleanlab's active learning score indicates whether you should collect: another label for an already-labeled example (ie. having one more annotator review some potentially difficult example), or the first label for a new example that has not yet been labeled. The active learning scores properly weigh this trade-off based on cleanlab's estimates of label quality, in order to maximally improve your classifier with the fewest total labels.\n",
    "\n",
    "This notebook implements the following steps:\n",
    "\n",
    "1. Establish consensus labels (for the already labeled data). Use them to train a classifier model and then obtain out-of-sample predicted probabilities for each example.\n",
    "2. Compute active learning scores for every example, which estimate our current confidence in knowing its true label.\n",
    "3. Collect additional labels for the examples with the lowest active learning scores. These are the most potentially informative examples whose true label we are least certain of. \n",
    "4. Repeat the steps above to collect as many labels as your budget permits.\n",
    "\n",
    "The accuracy of the model trained on the resulting dataset will generally match that of the same model trained on a much larger set of randomly collected labels. I.e. this is the most cost-effective way to train an accurate classifier!\n",
    "\n",
    "In this example we use a modified version of the [Wall-Following Robot Navigation](https://www.openml.org/search?type=data&sort=runs&status=any&qualities.NumberOfClasses=gte_2&qualities.NumberOfInstances=between_1000_10000&id=1526) dataset, with multiple data annotators who each provide noisy labels."
   ]
  },
  {
   "cell_type": "markdown",
   "metadata": {},
   "source": [
    "## Import dependencies and get data"
   ]
  },
  {
   "cell_type": "markdown",
   "metadata": {},
   "source": [
    "Please install the dependencies specified in this [requirements.txt](https://github.com/cleanlab/examples/blob/master/active_learning_multiannotator/requirements.txt) file before running the notebook.  "
   ]
  },
  {
   "cell_type": "code",
   "execution_count": 5,
   "metadata": {},
   "outputs": [
    {
     "name": "stdout",
     "output_type": "stream",
     "text": [
      "The autoreload extension is already loaded. To reload it, use:\n",
      "  %reload_ext autoreload\n"
     ]
    }
   ],
   "source": [
    "%load_ext autoreload\n",
    "%autoreload 2\n",
    "%reload_ext autoreload\n",
    "\n",
    "import numpy as np\n",
    "import pandas as pd\n",
    "from sklearn.ensemble import ExtraTreesClassifier\n",
    "import matplotlib.pyplot as plt\n",
    "\n",
    "from cleanlab.multiannotator import get_majority_vote_label, get_label_quality_multiannotator, get_active_learning_scores\n",
    "\n",
    "from utils.model_training import fit_predict_proba\n",
    "from utils.active_learning import setup_next_iter_data, add_new_annotator\n",
    "from data_processing.read_data import generate_MAPAL_data,generate_new_data,generate_ActiveLab_MAPAL_data,generate_new_data_ActiveLab\n",
    "import torch\n",
    "import random\n",
    "import os\n"
   ]
  },
  {
   "cell_type": "code",
   "execution_count": 39,
   "metadata": {},
   "outputs": [],
   "source": [
    "# !wget -nc 'https://cleanlab-public.s3.amazonaws.com/ActiveLearning/WallRobot/data.tar.gz'\n",
    "# !tar -xf data.tar.gz data/"
   ]
  },
  {
   "cell_type": "markdown",
   "metadata": {},
   "source": [
    "We load the following datafiles:\n",
    "\n",
    "- `multiannotator_labels` is a DataFrame that contains labels from multiple annotators for each example (different number of annotations per example)\n",
    "- `X_labeled` are the features for the examples that have been labeled by at least one annotator\n",
    "- `X_unlabeled` are the features for the examples that have not yet been labeled by any annotator\n",
    "\n",
    "Additionally, we load some extra files for demo purposes, which will probably not be available in your application:\n",
    "\n",
    "- `extra_labels_labeled` and `extra_labels_unlabeled` are sampled from when we get ask annotators to provide additional labels later in this notebook\n",
    "- `X_test` and `true_labels_test` are used to measure the current model's predictive accuracy in each round of multi-annotator active learning"
   ]
  },
  {
   "cell_type": "code",
   "execution_count": 8,
   "metadata": {},
   "outputs": [
    {
     "name": "stdout",
     "output_type": "stream",
     "text": [
      "Random seed set as 1\n",
      "Knowledge Base Results directory path :  results/Knowledge_Base/vehicle-simulated-x-0.4-0.95-0.7\n",
      "Knowledge Base Results directory path :  data_processing\\vehicle-simulated-x-0.4\n"
     ]
    }
   ],
   "source": [
    "def set_seed(seed: int = 42) -> None:  ## Set SEEDS FUNCTION\n",
    "    np.random.seed(seed)\n",
    "    random.seed(seed)\n",
    "    torch.manual_seed(seed)\n",
    "    # torch.cuda.manual_seed(seed)\n",
    "    # When running on the CuDNN backend, two further options must be set\n",
    "    # torch.backends.cudnn.deterministic = True\n",
    "    # torch.backends.cudnn.benchmark = False\n",
    "    # Set a fixed value for the hash seed\n",
    "    # os.environ[\"PYTHONHASHSEED\"] = str(seed)\n",
    "    print(f\"Random seed set as {seed}\")\n",
    "\n",
    "\n",
    "Dataset = \"vehicle-simulated-x\"\n",
    "\n",
    "Data_folder_path = \"datasets\"\n",
    "\n",
    "Data_path = Data_folder_path + \"/\" + Dataset + \".csv\"\n",
    "\n",
    "\n",
    "budget = 0.4\n",
    "test_ratio = 0.4\n",
    "boot_size = 0.4\n",
    "s_t = 0.95 # SIMILARITY THRESHOLD --- 1 (check)\n",
    "w_t = 0.7 # WEIGHT THRESHOLD ---- 1 (check)\n",
    "\n",
    "seed = 1\n",
    "set_seed(seed)\n",
    "\n",
    "\n",
    "parent_dir_1 = \"results/Knowledge_Base/\"\n",
    "dir_name_1 = Dataset + \"-\"+str(budget) + \"-\" + str(s_t) + \"-\" + str(w_t)\n",
    "\n",
    "Path_results = os.path.join(parent_dir_1,dir_name_1)\n",
    "if not os.path.isdir(Path_results):\n",
    "    os.mkdir(Path_results)\n",
    "print(\"Knowledge Base Results directory path : \",Path_results)\n",
    "\n",
    "parent_dir_2 = \"data_processing\"\n",
    "dir_name_2 = Dataset + \"-\" + str(budget)\n",
    "Path_mapal_data = os.path.join(parent_dir_2,dir_name_2)\n",
    "if not os.path.isdir(Path_mapal_data):\n",
    "    os.mkdir(Path_mapal_data)\n",
    "print(\"Knowledge Base Results directory path : \",Path_mapal_data)\n",
    "\n",
    "#specify path for export text file\n",
    "txt_path = Path_results +\"/comparison.txt\"\n",
    "\n",
    "with open(txt_path, 'a') as f:\n",
    "    f.write(Dataset+\"\\n\")\n",
    "    f.write(\"Budget : \"+str(budget)+\"\\n\")\n",
    "    f.write(\"Similarity Threshold : \"+str(s_t)+\"\\n\")\n",
    "    f.write(\"Weight Threshold : \"+str(w_t)+\"\\n\")"
   ]
  },
  {
   "cell_type": "code",
   "execution_count": 12,
   "metadata": {},
   "outputs": [
    {
     "name": "stdout",
     "output_type": "stream",
     "text": [
      "Train features shape, Train labels shape, Train Annotator Labels shape\n",
      "(507, 18) (507,) (507, 4)\n",
      "Validation features Shape, Validation labels shape, Validation Annotators Label shape\n",
      "(339, 18) (339,) (339, 4)\n",
      "(507, 18) (507,) (507, 4)\n",
      "boot up (array([0, 1, 2, 3], dtype=int64), array([54, 48, 52, 48], dtype=int64)) 202\n",
      "active up (array([0, 1, 2, 3], dtype=int64), array([82, 72, 79, 72], dtype=int64))\n",
      "valid up (array([0, 1, 2, 3], dtype=int64), array([82, 92, 86, 79], dtype=int64))\n",
      "Boot Data Features shape, Boot Data Labels shape, Boot Data Annotator Labels shape\n",
      "(202, 18) (202,) (202, 4)\n",
      "Active Data Features shape, Active Data Labels shape, Active Data Annotator Labels shape\n",
      "(305, 18) (305,) (305, 4)\n",
      "MAPAL budget :  206\n",
      "Boot budget :  202\n",
      "Our Budget :  4\n"
     ]
    }
   ],
   "source": [
    "# RUN CELL TO GENERATE FRESH DATA\n",
    "TRAIN, VAL, BOOT, ACTIVE, budget = generate_new_data_ActiveLab(Data_path,budget,test_ratio=test_ratio,boot_size = boot_size, seed = seed)\n",
    "x_train, y_train, y_annot_train = TRAIN\n",
    "x_val, y_val, y_annot_val = VAL\n",
    "x_boot, y_boot, y_annot_boot = BOOT\n",
    "x_active, y_active, y_annot_active = ACTIVE\n",
    "m = y_annot_active.shape[1]"
   ]
  },
  {
   "cell_type": "code",
   "execution_count": 29,
   "metadata": {},
   "outputs": [
    {
     "name": "stdout",
     "output_type": "stream",
     "text": [
      "Train features shape, Train labels shape, Train Annotator Labels shape\n",
      "(507, 18) (507,) (507, 4)\n",
      "Validation features Shape, Validation labels shape, Validation Annotators Label shape\n",
      "(339, 18) (339,) (339, 4)\n",
      "(507, 18) (507,) (507, 4)\n",
      "boot up (array([0, 1, 2, 3], dtype=int64), array([54, 48, 52, 48], dtype=int64)) 202\n",
      "active up (array([0, 1, 2, 3], dtype=int64), array([82, 72, 79, 72], dtype=int64))\n",
      "valid up (array([0, 1, 2, 3], dtype=int64), array([82, 92, 86, 79], dtype=int64))\n",
      "Boot Data Features shape, Boot Data Labels shape, Boot Data Annotator Labels shape\n",
      "(202, 18) (202,) (202, 4)\n",
      "Active Data Features shape, Active Data Labels shape, Active Data Annotator Labels shape\n",
      "(305, 18) (305,) (305, 4)\n",
      "MAPAL budget :  812\n",
      "Boot budget :  202\n",
      "Our active Budget :  610\n"
     ]
    },
    {
     "data": {
      "text/html": [
       "<div>\n",
       "<style scoped>\n",
       "    .dataframe tbody tr th:only-of-type {\n",
       "        vertical-align: middle;\n",
       "    }\n",
       "\n",
       "    .dataframe tbody tr th {\n",
       "        vertical-align: top;\n",
       "    }\n",
       "\n",
       "    .dataframe thead th {\n",
       "        text-align: right;\n",
       "    }\n",
       "</style>\n",
       "<table border=\"1\" class=\"dataframe\">\n",
       "  <thead>\n",
       "    <tr style=\"text-align: right;\">\n",
       "      <th></th>\n",
       "      <th>index</th>\n",
       "      <th>train-micro-misclf-rate</th>\n",
       "      <th>test-micro-misclf-rate</th>\n",
       "      <th>train-macro-misclf-rate</th>\n",
       "      <th>test-macro-misclf-rate</th>\n",
       "      <th>n-labeled-samples</th>\n",
       "      <th>n-true-labels-0</th>\n",
       "      <th>n-false-labels-0</th>\n",
       "      <th>n-true-labels-1</th>\n",
       "      <th>n-false-labels-1</th>\n",
       "      <th>n-true-labels-2</th>\n",
       "      <th>n-false-labels-2</th>\n",
       "      <th>n-true-labels-3</th>\n",
       "      <th>n-false-labels-3</th>\n",
       "      <th>n-true-labels</th>\n",
       "      <th>n-false-labels</th>\n",
       "      <th>times</th>\n",
       "    </tr>\n",
       "  </thead>\n",
       "  <tbody>\n",
       "    <tr>\n",
       "      <th>0</th>\n",
       "      <td>0</td>\n",
       "      <td>0.761341</td>\n",
       "      <td>0.766962</td>\n",
       "      <td>0.754494</td>\n",
       "      <td>0.787445</td>\n",
       "      <td>0</td>\n",
       "      <td>0</td>\n",
       "      <td>0</td>\n",
       "      <td>0</td>\n",
       "      <td>0</td>\n",
       "      <td>0</td>\n",
       "      <td>0</td>\n",
       "      <td>0</td>\n",
       "      <td>0</td>\n",
       "      <td>0</td>\n",
       "      <td>0</td>\n",
       "      <td>0.000000</td>\n",
       "    </tr>\n",
       "    <tr>\n",
       "      <th>1</th>\n",
       "      <td>1</td>\n",
       "      <td>0.741617</td>\n",
       "      <td>0.746313</td>\n",
       "      <td>0.750000</td>\n",
       "      <td>0.750000</td>\n",
       "      <td>1</td>\n",
       "      <td>0</td>\n",
       "      <td>0</td>\n",
       "      <td>1</td>\n",
       "      <td>0</td>\n",
       "      <td>0</td>\n",
       "      <td>0</td>\n",
       "      <td>0</td>\n",
       "      <td>0</td>\n",
       "      <td>1</td>\n",
       "      <td>0</td>\n",
       "      <td>0.000098</td>\n",
       "    </tr>\n",
       "    <tr>\n",
       "      <th>2</th>\n",
       "      <td>2</td>\n",
       "      <td>0.741617</td>\n",
       "      <td>0.746313</td>\n",
       "      <td>0.750000</td>\n",
       "      <td>0.750000</td>\n",
       "      <td>1</td>\n",
       "      <td>1</td>\n",
       "      <td>0</td>\n",
       "      <td>1</td>\n",
       "      <td>0</td>\n",
       "      <td>0</td>\n",
       "      <td>0</td>\n",
       "      <td>0</td>\n",
       "      <td>0</td>\n",
       "      <td>2</td>\n",
       "      <td>0</td>\n",
       "      <td>0.000130</td>\n",
       "    </tr>\n",
       "    <tr>\n",
       "      <th>3</th>\n",
       "      <td>3</td>\n",
       "      <td>0.741617</td>\n",
       "      <td>0.746313</td>\n",
       "      <td>0.750000</td>\n",
       "      <td>0.750000</td>\n",
       "      <td>1</td>\n",
       "      <td>1</td>\n",
       "      <td>0</td>\n",
       "      <td>1</td>\n",
       "      <td>0</td>\n",
       "      <td>0</td>\n",
       "      <td>1</td>\n",
       "      <td>0</td>\n",
       "      <td>0</td>\n",
       "      <td>2</td>\n",
       "      <td>1</td>\n",
       "      <td>0.000130</td>\n",
       "    </tr>\n",
       "    <tr>\n",
       "      <th>4</th>\n",
       "      <td>4</td>\n",
       "      <td>0.741617</td>\n",
       "      <td>0.746313</td>\n",
       "      <td>0.750000</td>\n",
       "      <td>0.750000</td>\n",
       "      <td>1</td>\n",
       "      <td>1</td>\n",
       "      <td>0</td>\n",
       "      <td>1</td>\n",
       "      <td>0</td>\n",
       "      <td>0</td>\n",
       "      <td>1</td>\n",
       "      <td>1</td>\n",
       "      <td>0</td>\n",
       "      <td>3</td>\n",
       "      <td>1</td>\n",
       "      <td>0.000132</td>\n",
       "    </tr>\n",
       "    <tr>\n",
       "      <th>...</th>\n",
       "      <td>...</td>\n",
       "      <td>...</td>\n",
       "      <td>...</td>\n",
       "      <td>...</td>\n",
       "      <td>...</td>\n",
       "      <td>...</td>\n",
       "      <td>...</td>\n",
       "      <td>...</td>\n",
       "      <td>...</td>\n",
       "      <td>...</td>\n",
       "      <td>...</td>\n",
       "      <td>...</td>\n",
       "      <td>...</td>\n",
       "      <td>...</td>\n",
       "      <td>...</td>\n",
       "      <td>...</td>\n",
       "      <td>...</td>\n",
       "    </tr>\n",
       "    <tr>\n",
       "      <th>808</th>\n",
       "      <td>808</td>\n",
       "      <td>0.264300</td>\n",
       "      <td>0.392330</td>\n",
       "      <td>0.266953</td>\n",
       "      <td>0.376147</td>\n",
       "      <td>507</td>\n",
       "      <td>279</td>\n",
       "      <td>159</td>\n",
       "      <td>64</td>\n",
       "      <td>33</td>\n",
       "      <td>55</td>\n",
       "      <td>29</td>\n",
       "      <td>147</td>\n",
       "      <td>42</td>\n",
       "      <td>545</td>\n",
       "      <td>263</td>\n",
       "      <td>0.002328</td>\n",
       "    </tr>\n",
       "    <tr>\n",
       "      <th>809</th>\n",
       "      <td>809</td>\n",
       "      <td>0.264300</td>\n",
       "      <td>0.389381</td>\n",
       "      <td>0.266778</td>\n",
       "      <td>0.373619</td>\n",
       "      <td>507</td>\n",
       "      <td>279</td>\n",
       "      <td>159</td>\n",
       "      <td>65</td>\n",
       "      <td>33</td>\n",
       "      <td>55</td>\n",
       "      <td>29</td>\n",
       "      <td>147</td>\n",
       "      <td>42</td>\n",
       "      <td>546</td>\n",
       "      <td>263</td>\n",
       "      <td>0.002612</td>\n",
       "    </tr>\n",
       "    <tr>\n",
       "      <th>810</th>\n",
       "      <td>810</td>\n",
       "      <td>0.264300</td>\n",
       "      <td>0.395280</td>\n",
       "      <td>0.266778</td>\n",
       "      <td>0.379006</td>\n",
       "      <td>507</td>\n",
       "      <td>279</td>\n",
       "      <td>159</td>\n",
       "      <td>65</td>\n",
       "      <td>33</td>\n",
       "      <td>56</td>\n",
       "      <td>29</td>\n",
       "      <td>147</td>\n",
       "      <td>42</td>\n",
       "      <td>547</td>\n",
       "      <td>263</td>\n",
       "      <td>0.002663</td>\n",
       "    </tr>\n",
       "    <tr>\n",
       "      <th>811</th>\n",
       "      <td>811</td>\n",
       "      <td>0.264300</td>\n",
       "      <td>0.398230</td>\n",
       "      <td>0.266778</td>\n",
       "      <td>0.381913</td>\n",
       "      <td>507</td>\n",
       "      <td>279</td>\n",
       "      <td>159</td>\n",
       "      <td>66</td>\n",
       "      <td>33</td>\n",
       "      <td>56</td>\n",
       "      <td>29</td>\n",
       "      <td>147</td>\n",
       "      <td>42</td>\n",
       "      <td>548</td>\n",
       "      <td>263</td>\n",
       "      <td>0.002655</td>\n",
       "    </tr>\n",
       "    <tr>\n",
       "      <th>812</th>\n",
       "      <td>812</td>\n",
       "      <td>0.268245</td>\n",
       "      <td>0.398230</td>\n",
       "      <td>0.270525</td>\n",
       "      <td>0.381913</td>\n",
       "      <td>507</td>\n",
       "      <td>279</td>\n",
       "      <td>159</td>\n",
       "      <td>66</td>\n",
       "      <td>34</td>\n",
       "      <td>56</td>\n",
       "      <td>29</td>\n",
       "      <td>147</td>\n",
       "      <td>42</td>\n",
       "      <td>548</td>\n",
       "      <td>264</td>\n",
       "      <td>0.002427</td>\n",
       "    </tr>\n",
       "  </tbody>\n",
       "</table>\n",
       "<p>813 rows × 17 columns</p>\n",
       "</div>"
      ],
      "text/plain": [
       "     index  train-micro-misclf-rate  test-micro-misclf-rate  \\\n",
       "0        0                 0.761341                0.766962   \n",
       "1        1                 0.741617                0.746313   \n",
       "2        2                 0.741617                0.746313   \n",
       "3        3                 0.741617                0.746313   \n",
       "4        4                 0.741617                0.746313   \n",
       "..     ...                      ...                     ...   \n",
       "808    808                 0.264300                0.392330   \n",
       "809    809                 0.264300                0.389381   \n",
       "810    810                 0.264300                0.395280   \n",
       "811    811                 0.264300                0.398230   \n",
       "812    812                 0.268245                0.398230   \n",
       "\n",
       "     train-macro-misclf-rate  test-macro-misclf-rate  n-labeled-samples  \\\n",
       "0                   0.754494                0.787445                  0   \n",
       "1                   0.750000                0.750000                  1   \n",
       "2                   0.750000                0.750000                  1   \n",
       "3                   0.750000                0.750000                  1   \n",
       "4                   0.750000                0.750000                  1   \n",
       "..                       ...                     ...                ...   \n",
       "808                 0.266953                0.376147                507   \n",
       "809                 0.266778                0.373619                507   \n",
       "810                 0.266778                0.379006                507   \n",
       "811                 0.266778                0.381913                507   \n",
       "812                 0.270525                0.381913                507   \n",
       "\n",
       "     n-true-labels-0  n-false-labels-0  n-true-labels-1  n-false-labels-1  \\\n",
       "0                  0                 0                0                 0   \n",
       "1                  0                 0                1                 0   \n",
       "2                  1                 0                1                 0   \n",
       "3                  1                 0                1                 0   \n",
       "4                  1                 0                1                 0   \n",
       "..               ...               ...              ...               ...   \n",
       "808              279               159               64                33   \n",
       "809              279               159               65                33   \n",
       "810              279               159               65                33   \n",
       "811              279               159               66                33   \n",
       "812              279               159               66                34   \n",
       "\n",
       "     n-true-labels-2  n-false-labels-2  n-true-labels-3  n-false-labels-3  \\\n",
       "0                  0                 0                0                 0   \n",
       "1                  0                 0                0                 0   \n",
       "2                  0                 0                0                 0   \n",
       "3                  0                 1                0                 0   \n",
       "4                  0                 1                1                 0   \n",
       "..               ...               ...              ...               ...   \n",
       "808               55                29              147                42   \n",
       "809               55                29              147                42   \n",
       "810               56                29              147                42   \n",
       "811               56                29              147                42   \n",
       "812               56                29              147                42   \n",
       "\n",
       "     n-true-labels  n-false-labels     times  \n",
       "0                0               0  0.000000  \n",
       "1                1               0  0.000098  \n",
       "2                2               0  0.000130  \n",
       "3                2               1  0.000130  \n",
       "4                3               1  0.000132  \n",
       "..             ...             ...       ...  \n",
       "808            545             263  0.002328  \n",
       "809            546             263  0.002612  \n",
       "810            547             263  0.002663  \n",
       "811            548             263  0.002655  \n",
       "812            548             264  0.002427  \n",
       "\n",
       "[813 rows x 17 columns]"
      ]
     },
     "execution_count": 29,
     "metadata": {},
     "output_type": "execute_result"
    }
   ],
   "source": [
    "## RUN CELL TO USE MAPAL GENERATED DATA\n",
    "\n",
    "TRAIN, VAL, BOOT, ACTIVE, instance_annotator_pair, Mapal_Data, ordered_instances, budget, MAPAL_results_path = generate_ActiveLab_MAPAL_data(Path_mapal_data,boot_size,seed)\n",
    "x_train, y_train, y_annot_train = TRAIN\n",
    "x_val, y_val, y_annot_val = VAL\n",
    "x_boot, y_boot, y_annot_boot = BOOT\n",
    "x_active, y_active, y_annot_active = ACTIVE\n",
    "m = y_annot_active.shape[1]\n",
    "new_x_train,new_y_train,new_y_annot_train = Mapal_Data\n",
    "Mapal_Data_Frame = pd.read_csv(MAPAL_results_path)\n",
    "Mapal_Data_Frame"
   ]
  },
  {
   "cell_type": "code",
   "execution_count": 13,
   "metadata": {},
   "outputs": [],
   "source": [
    "# biodegradation -0.2\n",
    "# num_rounds = 10\n",
    "# batch_size_to_label = 38\n",
    "\n",
    "# ionosphere -0.4, seeds - 0.4\n",
    "# num_rounds = 12\n",
    "# batch_size_to_label = 21\n",
    "\n",
    "# reports-mozilla - 0.2\n",
    "# num_rounds = 12\n",
    "# batch_size_to_label = 20\n",
    "\n",
    "# medical - 0.4\n",
    "# num_rounds = 15\n",
    "# batch_size_to_label = 23\n",
    "\n",
    "# iris - 0.4\n",
    "# num_rounds = 12\n",
    "# batch_size_to_label = 12\n",
    "\n",
    "# Vehicle - 0.4\n",
    "num_rounds = 10\n",
    "batch_size_to_label = 61"
   ]
  },
  {
   "cell_type": "code",
   "execution_count": 14,
   "metadata": {},
   "outputs": [
    {
     "name": "stdout",
     "output_type": "stream",
     "text": [
      "Labels :  [0 1 2 3]\n",
      "Frequency :  [82 92 86 79]\n",
      "(202, 4)\n"
     ]
    }
   ],
   "source": [
    "labels, frequency = np.unique(y_val,return_counts=True)\n",
    "print('Labels : ',labels)\n",
    "print('Frequency : ',frequency)\n",
    "num_class = len(labels)\n",
    "\n",
    "multiannotator_labels = np.empty(y_annot_boot.shape)\n",
    "multiannotator_labels.fill(np.NaN)\n",
    "print(multiannotator_labels.shape)\n",
    "for i in range(multiannotator_labels.shape[0]):\n",
    "    idx = np.random.randint(m)\n",
    "    multiannotator_labels[i][idx] = y_annot_boot.iloc[i][idx]"
   ]
  },
  {
   "cell_type": "code",
   "execution_count": 15,
   "metadata": {},
   "outputs": [],
   "source": [
    "multiannotator_labels = pd.DataFrame(multiannotator_labels)\n",
    "X_labeled = x_boot.to_numpy()\n",
    "X_unlabeled = x_active.to_numpy()\n",
    "\n",
    "extra_labels_labeled = y_annot_boot.to_numpy()\n",
    "extra_labels_unlabeled = y_annot_active.to_numpy()\n",
    "X_test = x_val.to_numpy()\n",
    "true_labels_test = y_val.to_numpy()"
   ]
  },
  {
   "cell_type": "code",
   "execution_count": 16,
   "metadata": {},
   "outputs": [
    {
     "name": "stdout",
     "output_type": "stream",
     "text": [
      "X_labeled shape :  (202, 18)\n",
      "X_unlabeled shape :  (305, 18)\n",
      "multiannotator_labels shape :  (202, 4)\n",
      "extra_labels_labeled shape :  (202, 4)\n",
      "extra_labels_unlabeled shape :  (305, 4)\n"
     ]
    }
   ],
   "source": [
    "print('X_labeled shape : ',X_labeled.shape)\n",
    "print('X_unlabeled shape : ',X_unlabeled.shape)\n",
    "print('multiannotator_labels shape : ',multiannotator_labels.shape)\n",
    "print('extra_labels_labeled shape : ',extra_labels_labeled.shape)\n",
    "print('extra_labels_unlabeled shape : ',extra_labels_unlabeled.shape)"
   ]
  },
  {
   "cell_type": "markdown",
   "metadata": {},
   "source": [
    "## Train model to obtain predicted probabilites\n",
    "\n",
    "First, we train our model on a set of consensus labels obtained using majority vote to get the out-of-sample predicted class probabilities for both the labeled and unlabeled data. Note that the `multiannotator_labels` DataFrame used to obtain consensus labels only includes the examples that have been labeled by at least one annotator, as we are not able to get consensus labels for examples that have not been labeled at all.\n",
    "\n",
    "The function will return two sets of predicted probabilites, `pred_probs_labeled` are the predicted probabilites for examples that have existing annotator labels (they correspond directly with the features `X_labeled`), whereas `active_learning_scores_unlabeled` are the predicted probabilites for examples that do not have any annotator labels (they correspond directly with the features `X_unlabeled`). These predicted probabilities will later be used to compute the active learning score.\n",
    "\n",
    "If working with your own dataset, you should consider modifying this `fit_predict_proba` function so that it is better fitted for training your specific dataset."
   ]
  },
  {
   "cell_type": "code",
   "execution_count": 9,
   "metadata": {},
   "outputs": [],
   "source": [
    "# Get current consensus labels\n",
    "consensus_labels = get_majority_vote_label(multiannotator_labels)\n",
    "\n",
    "# Train model to get out-of-sample predicted probabilies for both labels and unlabeled data\n",
    "pred_probs_labeled, pred_probs_unlabeled = fit_predict_proba(\n",
    "    ExtraTreesClassifier(),\n",
    "    X_labeled,\n",
    "    consensus_labels,\n",
    "    cv_n_folds=num_class,\n",
    "    X_unlabeled=X_unlabeled,\n",
    ")"
   ]
  },
  {
   "cell_type": "markdown",
   "metadata": {},
   "source": [
    "## Obtain active learning scores"
   ]
  },
  {
   "cell_type": "markdown",
   "metadata": {},
   "source": [
    "Next, we will get the active learning scores for each datapoint (both labeled and unlabeled) by using a combination of the annotators' agremeent and model confidence. These scores represent how confident we are about an example's true label based on the currently obtained annotations; examples with the lowest scores are those for which additional labels should be collected (i.e. likely the most informative). These scores are estimated via an **ActiveLab** algorithm developed by the Cleanlab team, and may sometimes prioritize an already-labeled example over an unlabeled example if the annotations for the labeled example are deemed unreliable (ActiveLab appropriately estimates the value of collecting new annotations for unlabeled data vs already-labeled data). \n",
    "\n",
    "Similar to above, the `multiannotator_labels` DataFrame here should only include examples that have received at least one annotation (`multiannotator_labels` should have the same number of rows as `pred_probs_labeled`). This method returns two arrays: `active_learning_scores` represents the scores for examples with existing annotations, and `active_learning_scores_unlabeled` represents the scores for examples with no annotations so far. Scores should be directly comparable between these two groups, and you should favor collecting an additional label for the examples with the lowest scores."
   ]
  },
  {
   "cell_type": "code",
   "execution_count": 10,
   "metadata": {},
   "outputs": [],
   "source": [
    "active_learning_scores, active_learning_scores_unlabeled = get_active_learning_scores(\n",
    "    multiannotator_labels, pred_probs_labeled, pred_probs_unlabeled\n",
    ")"
   ]
  },
  {
   "cell_type": "code",
   "execution_count": 11,
   "metadata": {},
   "outputs": [
    {
     "data": {
      "text/plain": [
       "array([0.53777778, 0.51111111, 0.36444444, 0.47111111, 0.69777778])"
      ]
     },
     "execution_count": 11,
     "metadata": {},
     "output_type": "execute_result"
    }
   ],
   "source": [
    "# Sample of active learning scores\n",
    "active_learning_scores[:5]"
   ]
  },
  {
   "cell_type": "markdown",
   "metadata": {},
   "source": [
    "## Get index to relabel"
   ]
  },
  {
   "cell_type": "markdown",
   "metadata": {},
   "source": [
    "Lastly, we can ranks the examples by their active learning scores, and obtain the index of the examples with the lowest scores; these are the least confident examples which we will want to collect more labels for.\n",
    "\n",
    "The code cell below shows how to combine the labeled and unlabeled examples before ranking them and obtaining their respective indices to collect more labels."
   ]
  },
  {
   "cell_type": "code",
   "execution_count": 12,
   "metadata": {},
   "outputs": [],
   "source": [
    "# batch_size_to_label = 21 # you can pick how many examples to collect more labels for at each round\n",
    "\n",
    "num_labeled = len(active_learning_scores)\n",
    "active_learning_scores_combined = np.concatenate((active_learning_scores, active_learning_scores_unlabeled))\n",
    "\n",
    "to_label_idx_combined = np.argsort(active_learning_scores_combined)[:batch_size_to_label]\n",
    "to_label_idx_labeled = to_label_idx_combined[to_label_idx_combined < num_labeled]\n",
    "to_label_idx_unlabeled = (to_label_idx_combined[to_label_idx_combined >= num_labeled] - num_labeled)"
   ]
  },
  {
   "cell_type": "code",
   "execution_count": 13,
   "metadata": {},
   "outputs": [
    {
     "data": {
      "text/plain": [
       "array([10, 19, 15,  7,  8,  5, 24, 29, 12, 20, 26, 21], dtype=int64)"
      ]
     },
     "execution_count": 13,
     "metadata": {},
     "output_type": "execute_result"
    }
   ],
   "source": [
    "# Sample of indices to collect more labels for\n",
    "to_label_idx_labeled"
   ]
  },
  {
   "cell_type": "markdown",
   "metadata": {},
   "source": [
    "> ### Bringing Your Own Data (BYOD)?\n",
    "> \n",
    "> You can easily replace the above with your own dataset, and obtain the active learning scores and indices to collect more labels for using the code above.\n",
    "> \n",
    "> `multiannotator_labels` should be a numpy array of pandas DataFrame where each column represents an annotator and each row represents an example. The classes should be ingeters from 0 to num_classes - 1, where examples that were not labeled by a particular annotator are represented using `np.nan`. `multiannotator_labels` should also only contain the examples that have been labeled by at least one annotator (no row should consist of only `np.nan` values).\n",
    "> \n",
    "> `X_labeled` and `X_unlabeled` should be numpy arrays that have the same number of columns. However, if you do not have any unlabeled examples, you can also pass an empty array of `None` as the value of `X_unlabeled`.\n"
   ]
  },
  {
   "cell_type": "markdown",
   "metadata": {},
   "source": [
    "## Improving model accuracy over 15 rounds of multi-annotator active learning (collecting new labels) \n",
    "\n",
    "The code below shows a full demonstration of how we can repeatedly use the functions demonstrated above for multiple rounds in order to select which examples to collect new labels for, ask annotators to provide these new labels (via a noisy simulation in this example), and use the newly collected labels to get improved consensus labels used to train an improved classification model.\n",
    "\n",
    "This demonstration runs this multi-annotator active learning loop for 15 rounds, choosing 100 examples to collect more labels for each round. Each round, we use the consensus labels of each labeled example to train a classifier (here we used an `ExtraTrees` classifier) and obtain out-of-sample predicted probabilites, which is then used to compute the active learning scores for every example. We then synthetically collect new labels (this process is meant to simulate getting a new annotator to annotated a selection of examples) and repeat the active learning loop. \n",
    "\n",
    "For the first round of training, we obtain consensus labels using majority vote as we do not have any predicted probabilites yet. For subsequent rounds, we employ the classifier-predicted probabilites for each example (obtained from the previous round) with cleanlab's [CROWDLAB algorithm](https://docs.cleanlab.ai/stable/tutorials/multiannotator.html), in order to produce higher quality consensus labels that the model can be trained with.\n",
    "\n",
    "[Optional step] We also measure the model performance on a test set each round to demonstrate the improvement of the model."
   ]
  },
  {
   "cell_type": "code",
   "execution_count": 14,
   "metadata": {},
   "outputs": [],
   "source": [
    "# Function to get indices of examples with the lowest active learning score to collect more labels for\n",
    "def get_idx_to_label(\n",
    "    active_learning_scores,\n",
    "    batch_size_to_label,\n",
    "    active_learning_scores_unlabeled=None,\n",
    "):\n",
    "    if active_learning_scores_unlabeled is None:\n",
    "        active_learning_scores_unlabeled = np.array([])\n",
    "\n",
    "    num_labeled = len(active_learning_scores)\n",
    "    active_learning_scores_combined = np.concatenate((active_learning_scores, active_learning_scores_unlabeled))\n",
    "\n",
    "    if batch_size_to_label > len(active_learning_scores_combined):\n",
    "        raise ValueError(\"num_examples_to_relabel is larger than the total number of examples available\")\n",
    "\n",
    "    to_label_idx_combined = np.argsort(active_learning_scores_combined)[:batch_size_to_label]\n",
    "    to_label_idx = to_label_idx_combined[to_label_idx_combined < num_labeled]\n",
    "    to_label_idx_unlabeled = (to_label_idx_combined[to_label_idx_combined >= num_labeled] - num_labeled)\n",
    "\n",
    "    return to_label_idx, to_label_idx_unlabeled"
   ]
  },
  {
   "cell_type": "code",
   "execution_count": 15,
   "metadata": {},
   "outputs": [],
   "source": [
    "model_accuracy_arr = np.full(num_rounds, np.nan)\n",
    "\n",
    "for i in range(num_rounds):\n",
    "    # Get consensus labels\n",
    "    if i == 0:\n",
    "        consensus_labels = get_majority_vote_label(multiannotator_labels)\n",
    "    else:\n",
    "        # We can use the pred_probs from last round as the best model estimate\n",
    "        results = get_label_quality_multiannotator(\n",
    "            multiannotator_labels, \n",
    "            pred_probs_labeled,\n",
    "            calibrate_probs=True,\n",
    "        )\n",
    "        consensus_labels = results[\"label_quality\"][\"consensus_label\"]\n",
    "\n",
    "    # Train model to get out-of-sample predicted probabilites \n",
    "    pred_probs, pred_probs_unlabeled = fit_predict_proba(\n",
    "        ExtraTreesClassifier(),\n",
    "        X_labeled,\n",
    "        consensus_labels,\n",
    "        cv_n_folds=num_class,\n",
    "        X_unlabeled=X_unlabeled,\n",
    "    )\n",
    "\n",
    "    # Train a model on the full set of labeled data, to evaluate model accuracy for the current round.\n",
    "    # This is optional step for demonstration, you may not have ground truth labels in applications.\n",
    "    model = ExtraTreesClassifier()\n",
    "    model.fit(X_labeled, consensus_labels)\n",
    "    pred_labels = model.predict(X_test)\n",
    "    model_accuracy_arr[i] = np.mean(pred_labels == true_labels_test)\n",
    "\n",
    "    # Compute active learning scores\n",
    "    active_learning_scores, active_learning_scores_unlabeled = get_active_learning_scores(\n",
    "        multiannotator_labels, pred_probs, pred_probs_unlabeled\n",
    "    )\n",
    "\n",
    "    # Get the indices of examples to collect more labels for\n",
    "    relabel_idx, relabel_idx_unlabeled = get_idx_to_label(\n",
    "        active_learning_scores=active_learning_scores,\n",
    "        active_learning_scores_unlabeled=active_learning_scores_unlabeled,\n",
    "        batch_size_to_label=batch_size_to_label,\n",
    "    )\n",
    "\n",
    "    # Format the data for the next round of active learning, moving some unlabeled examples to the labeled pool \n",
    "    # because we are collecting labels for them.\n",
    "    # Note: you need to replace this helper function with your own function to properly update the labeled \n",
    "    # and unlabeled pools in your application.\n",
    "    (\n",
    "        multiannotator_labels, relabel_idx_combined, X_labeled, X_unlabeled, pred_probs_labeled, \n",
    "        pred_probs_unlabeled, extra_labels_labeled, extra_labels_unlabeled,\n",
    "    ) = setup_next_iter_data( \n",
    "        multiannotator_labels, relabel_idx, relabel_idx_unlabeled, X_labeled, X_unlabeled, pred_probs, \n",
    "        pred_probs_unlabeled, extra_labels_labeled, extra_labels_unlabeled,\n",
    "    )\n",
    "\n",
    "    # Collect additional labels for the examples with lowest active learning scores (indices obtained above).\n",
    "    # Here we add one new annotator who labels all of the examples in the selected batch, \n",
    "    # but you could have the existing annotators label these examples instead. \n",
    "    # Note: you need to replace this helper function with your own function to collect additional labels in your application.\n",
    "    multiannotator_labels = add_new_annotator(\n",
    "        multiannotator_labels, extra_labels_labeled, relabel_idx_combined\n",
    "    )"
   ]
  },
  {
   "cell_type": "markdown",
   "metadata": {},
   "source": [
    "In the final step of each active learning round above, we added one new annotator that annotates all the examples identified with the lowest active learning scores. It is not required that these examples be labeled by one new annotator (just done here for simplicity). These examples could instead be labeled by multiple new annotators, or multiple existing annotators, or any other combination. However you choose to collect additional labels, just be sure to properly update `multiannotator_labels` to reflect who provided these annotations.\n",
    "\n",
    "Our example above utilized helper functions (eg. `setup_next_iter_data`, `add_new_annotator`) to collect new labels after each round of active learning. You *must* replace these helper functions in real applications with your own code to obtain new labels from human annotators and properly reformat the labeled/unlabeled data with the new labels."
   ]
  },
  {
   "cell_type": "markdown",
   "metadata": {},
   "source": [
    "## Evaluate results"
   ]
  },
  {
   "cell_type": "code",
   "execution_count": 16,
   "metadata": {},
   "outputs": [
    {
     "name": "stdout",
     "output_type": "stream",
     "text": [
      "Initial model test accuracy: 0.7\n",
      "Final model test accuracy (after 15 rounds of active learning): 0.917\n"
     ]
    }
   ],
   "source": [
    "print(f\"Initial model test accuracy: {model_accuracy_arr[0]:.3}\")\n",
    "print(f\"Final model test accuracy (after 15 rounds of active learning): {model_accuracy_arr[-1]:.3}\")"
   ]
  },
  {
   "cell_type": "code",
   "execution_count": 17,
   "metadata": {},
   "outputs": [
    {
     "data": {
      "image/png": "[encoded data removed]",
      "text/plain": [
       "<Figure size 640x480 with 1 Axes>"
      ]
     },
     "metadata": {},
     "output_type": "display_data"
    }
   ],
   "source": [
    "plt.plot(model_accuracy_arr)\n",
    "plt.xticks(range(num_rounds))\n",
    "plt.xlabel(\"Round\")\n",
    "plt.ylabel(\"Model Accuracy\")\n",
    "plt.show()"
   ]
  },
  {
   "cell_type": "markdown",
   "metadata": {},
   "source": [
    "From the plot above, we can see that the model accuracy increases steadily with each additional round of collecting more labels, getting improved consensus labels, and model training.\n",
    "To learn about the ActiveLab algorithm and benchmarks of its effectiveness, check out our paper:\n",
    "\n",
    "**[ActiveLab: Active Learning with Re-Labeling by Multiple Annotators](https://arxiv.org/abs/2301.11856)** \n",
    "\n",
    "Beyond the setting demonstrated here (with multiple annotators and unlabeled examples), ActiveLab is also effective for: standard active learning where you just collect at most one label per example (no re-labeling), as well as *active label cleaning* (with no unlabeled pool) where you only want to re-label examples to ensure 100% correct consensus labels (with the least amount of re-labeling)."
   ]
  },
  {
   "cell_type": "markdown",
   "metadata": {},
   "source": [
    "## Other useful multiannotator statistics"
   ]
  },
  {
   "cell_type": "markdown",
   "metadata": {},
   "source": [
    "After conducting multiple rounds of multi-annotator active learning, you can also estimate various statistics from the labeled data such as the higher quality [CROWDLAB consensus label](https://arxiv.org/abs/2210.06812) for each example, consensus label quality scores that quantify how likely each consensus label is correct, and annotator quality scores that quantify how noisy each annotator's labels are overall. \n",
    "\n",
    "Below we show how to obtain this information using the annotators' labels and the model's predicted class probabilites. Check out cleanlab's [multiannotator module](https://docs.cleanlab.ai/stable/tutorials/multiannotator.html) for details!"
   ]
  },
  {
   "cell_type": "markdown",
   "metadata": {},
   "source": [
    "Using the annotator labels and predicted probabilites to get the consensus labels and other statistics:"
   ]
  },
  {
   "cell_type": "code",
   "execution_count": 18,
   "metadata": {},
   "outputs": [],
   "source": [
    "multiannotator_results = get_label_quality_multiannotator(multiannotator_labels, pred_probs_labeled)"
   ]
  },
  {
   "cell_type": "markdown",
   "metadata": {},
   "source": [
    "Each row of the `label_quality` dataframe corresponds to an example, here you can get the CROWDLAB consensus label and its quality score:"
   ]
  },
  {
   "cell_type": "code",
   "execution_count": 22,
   "metadata": {},
   "outputs": [
    {
     "data": {
      "text/plain": [
       "(81, 4)"
      ]
     },
     "execution_count": 22,
     "metadata": {},
     "output_type": "execute_result"
    }
   ],
   "source": [
    "multiannotator_results[\"label_quality\"].shape"
   ]
  },
  {
   "cell_type": "code",
   "execution_count": 19,
   "metadata": {},
   "outputs": [
    {
     "data": {
      "text/html": [
       "<div>\n",
       "<style scoped>\n",
       "    .dataframe tbody tr th:only-of-type {\n",
       "        vertical-align: middle;\n",
       "    }\n",
       "\n",
       "    .dataframe tbody tr th {\n",
       "        vertical-align: top;\n",
       "    }\n",
       "\n",
       "    .dataframe thead th {\n",
       "        text-align: right;\n",
       "    }\n",
       "</style>\n",
       "<table border=\"1\" class=\"dataframe\">\n",
       "  <thead>\n",
       "    <tr style=\"text-align: right;\">\n",
       "      <th></th>\n",
       "      <th>consensus_label</th>\n",
       "      <th>consensus_quality_score</th>\n",
       "      <th>annotator_agreement</th>\n",
       "      <th>num_annotations</th>\n",
       "    </tr>\n",
       "  </thead>\n",
       "  <tbody>\n",
       "    <tr>\n",
       "      <th>0</th>\n",
       "      <td>1</td>\n",
       "      <td>0.880000</td>\n",
       "      <td>1.000000</td>\n",
       "      <td>1</td>\n",
       "    </tr>\n",
       "    <tr>\n",
       "      <th>1</th>\n",
       "      <td>2</td>\n",
       "      <td>0.693507</td>\n",
       "      <td>0.500000</td>\n",
       "      <td>2</td>\n",
       "    </tr>\n",
       "    <tr>\n",
       "      <th>2</th>\n",
       "      <td>2</td>\n",
       "      <td>0.606298</td>\n",
       "      <td>0.500000</td>\n",
       "      <td>2</td>\n",
       "    </tr>\n",
       "    <tr>\n",
       "      <th>3</th>\n",
       "      <td>1</td>\n",
       "      <td>0.656912</td>\n",
       "      <td>1.000000</td>\n",
       "      <td>1</td>\n",
       "    </tr>\n",
       "    <tr>\n",
       "      <th>4</th>\n",
       "      <td>2</td>\n",
       "      <td>0.896745</td>\n",
       "      <td>0.666667</td>\n",
       "      <td>3</td>\n",
       "    </tr>\n",
       "  </tbody>\n",
       "</table>\n",
       "</div>"
      ],
      "text/plain": [
       "   consensus_label  consensus_quality_score  annotator_agreement  \\\n",
       "0                1                 0.880000             1.000000   \n",
       "1                2                 0.693507             0.500000   \n",
       "2                2                 0.606298             0.500000   \n",
       "3                1                 0.656912             1.000000   \n",
       "4                2                 0.896745             0.666667   \n",
       "\n",
       "   num_annotations  \n",
       "0                1  \n",
       "1                2  \n",
       "2                2  \n",
       "3                1  \n",
       "4                3  "
      ]
     },
     "execution_count": 19,
     "metadata": {},
     "output_type": "execute_result"
    }
   ],
   "source": [
    "multiannotator_results[\"label_quality\"].head()"
   ]
  },
  {
   "cell_type": "markdown",
   "metadata": {},
   "source": [
    "Each row of the `annotator_stats` dataframe corresponds to an annotator, here you can get their annotator quality and other information about the annotators:"
   ]
  },
  {
   "cell_type": "code",
   "execution_count": 20,
   "metadata": {},
   "outputs": [
    {
     "data": {
      "text/html": [
       "<div>\n",
       "<style scoped>\n",
       "    .dataframe tbody tr th:only-of-type {\n",
       "        vertical-align: middle;\n",
       "    }\n",
       "\n",
       "    .dataframe tbody tr th {\n",
       "        vertical-align: top;\n",
       "    }\n",
       "\n",
       "    .dataframe thead th {\n",
       "        text-align: right;\n",
       "    }\n",
       "</style>\n",
       "<table border=\"1\" class=\"dataframe\">\n",
       "  <thead>\n",
       "    <tr style=\"text-align: right;\">\n",
       "      <th></th>\n",
       "      <th>annotator_quality</th>\n",
       "      <th>agreement_with_consensus</th>\n",
       "      <th>worst_class</th>\n",
       "      <th>num_examples_labeled</th>\n",
       "    </tr>\n",
       "  </thead>\n",
       "  <tbody>\n",
       "    <tr>\n",
       "      <th>10</th>\n",
       "      <td>0.323872</td>\n",
       "      <td>0.333333</td>\n",
       "      <td>0</td>\n",
       "      <td>12</td>\n",
       "    </tr>\n",
       "    <tr>\n",
       "      <th>15</th>\n",
       "      <td>0.378043</td>\n",
       "      <td>0.500000</td>\n",
       "      <td>1</td>\n",
       "      <td>12</td>\n",
       "    </tr>\n",
       "    <tr>\n",
       "      <th>13</th>\n",
       "      <td>0.436048</td>\n",
       "      <td>0.500000</td>\n",
       "      <td>0</td>\n",
       "      <td>12</td>\n",
       "    </tr>\n",
       "    <tr>\n",
       "      <th>0</th>\n",
       "      <td>0.437701</td>\n",
       "      <td>0.428571</td>\n",
       "      <td>1</td>\n",
       "      <td>7</td>\n",
       "    </tr>\n",
       "    <tr>\n",
       "      <th>16</th>\n",
       "      <td>0.448280</td>\n",
       "      <td>0.666667</td>\n",
       "      <td>2</td>\n",
       "      <td>12</td>\n",
       "    </tr>\n",
       "  </tbody>\n",
       "</table>\n",
       "</div>"
      ],
      "text/plain": [
       "    annotator_quality  agreement_with_consensus  worst_class  \\\n",
       "10           0.323872                  0.333333            0   \n",
       "15           0.378043                  0.500000            1   \n",
       "13           0.436048                  0.500000            0   \n",
       "0            0.437701                  0.428571            1   \n",
       "16           0.448280                  0.666667            2   \n",
       "\n",
       "    num_examples_labeled  \n",
       "10                    12  \n",
       "15                    12  \n",
       "13                    12  \n",
       "0                      7  \n",
       "16                    12  "
      ]
     },
     "execution_count": 20,
     "metadata": {},
     "output_type": "execute_result"
    }
   ],
   "source": [
    "multiannotator_results[\"annotator_stats\"].head()"
   ]
  },
  {
   "cell_type": "code",
   "execution_count": 21,
   "metadata": {},
   "outputs": [
    {
     "name": "stdout",
     "output_type": "stream",
     "text": [
      "X_labeled shape :  (81, 4)\n",
      "X_unlabeled shape :  (9, 4)\n",
      "multiannotator_labels shape :  (81, 17)\n"
     ]
    }
   ],
   "source": [
    "print('X_labeled shape : ',X_labeled.shape)\n",
    "print('X_unlabeled shape : ',X_unlabeled.shape)\n",
    "print('multiannotator_labels shape : ',multiannotator_labels.shape)"
   ]
  }
 ],
 "metadata": {
  "kernelspec": {
   "display_name": "Python 3 (ipykernel)",
   "language": "python",
   "name": "python3"
  },
  "language_info": {
   "codemirror_mode": {
    "name": "ipython",
    "version": 3
   },
   "file_extension": ".py",
   "mimetype": "text/x-python",
   "name": "python",
   "nbconvert_exporter": "python",
   "pygments_lexer": "ipython3",
   "version": "3.11.3"
  },
  "vscode": {
   "interpreter": {
    "hash": "00885e89789f58e60dbba52a405dc834aaf92411914fde0d391f9b48289a0610"
   }
  }
 },
 "nbformat": 4,
 "nbformat_minor": 2
}
